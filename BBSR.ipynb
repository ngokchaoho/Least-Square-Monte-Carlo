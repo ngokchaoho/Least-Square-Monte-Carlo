{
 "cells": [
  {
   "cell_type": "code",
   "execution_count": 2,
   "metadata": {},
   "outputs": [],
   "source": [
    "import matplotlib.pyplot as plt\n",
    "import numpy as np\n",
    "import scipy.stats as si\n",
    "from sklearn.metrics import mean_squared_error\n",
    "import time"
   ]
  },
  {
   "cell_type": "markdown",
   "metadata": {},
   "source": [
    "# BSM Model"
   ]
  },
  {
   "cell_type": "code",
   "execution_count": 3,
   "metadata": {},
   "outputs": [],
   "source": [
    "def BSM(Put_Call, S_0, X, rfr, vol, t):\n",
    "    d1 = (np.log(S_0 / X) + (rfr + 0.5 * vol ** 2) * t) / (vol * np.sqrt(t))\n",
    "    d2 = (np.log(S_0 / X) + (rfr - 0.5 * vol ** 2) * t) / (vol * np.sqrt(t))\n",
    "    \n",
    "    if Put_Call == \"C\":\n",
    "        opt_price = S_0*si.norm.cdf(d1) - X*np.exp(-rfr*t)*si.norm.cdf(d2)\n",
    "    elif Put_Call == \"P\":\n",
    "        opt_price = X*np.exp(-rfr*t)*si.norm.cdf(-d2) - S_0*si.norm.cdf(-d1)\n",
    "    \n",
    "    return opt_price"
   ]
  },
  {
   "cell_type": "markdown",
   "metadata": {},
   "source": [
    "# BBS Model"
   ]
  },
  {
   "cell_type": "code",
   "execution_count": 4,
   "metadata": {},
   "outputs": [],
   "source": [
    "def BBS(Put_Call, n, S_0, X, rfr, vol, t):  #rfr is risk free rate, vol is volatility\n",
    "    deltaT = t/n \n",
    "    u = np.exp(vol*np.sqrt(deltaT))\n",
    "    d = 1./u\n",
    "    R = np.exp(rfr*deltaT)\n",
    "    p = (R-d)/(u-d)\n",
    "    q = 1-p     \n",
    "    \n",
    "    # simulating the underlying price paths\n",
    "    S = np.zeros((n+1,n+1))\n",
    "    S[0,0] = S_0\n",
    "    for i in range(1,n+1):\n",
    "        S[i,0] = S[i-1,0]*u\n",
    "        for j in range(1,i+1):\n",
    "            S[i,j] = S[i-1,j-1]*d\n",
    "    \n",
    "    # option value at final node   \n",
    "    V = np.zeros((n+1,n+1)) # V[i,j] is the option value at node (i,j)\n",
    "    for j in range(n+1):\n",
    "        if Put_Call==\"C\":\n",
    "            V[n,j] = max(0, S[n,j]-X)\n",
    "        elif Put_Call==\"P\":\n",
    "            V[n,j] = max(0, X-S[n,j])\n",
    "    for j in range(n):\n",
    "        V[n-1,j] = BSM(Put_Call, S[n-1,j], X, rfr, vol, t/n)\n",
    "            \n",
    "   \n",
    "    for i in range(n-2,-1,-1):\n",
    "        for j in range(i+1):\n",
    "            if Put_Call==\"P\":\n",
    "                V[i,j] = max(0, X-S[i,j], 1/R*(p*V[i+1,j]+q*V[i+1,j+1]))\n",
    "            elif Put_Call==\"C\":\n",
    "                V[i,j] = max(0, S[i,j]-X, 1/R*(p*V[i+1,j]+q*V[i+1,j+1]))\n",
    "        opt_price = V[0,0]\n",
    "        \n",
    "    return opt_price"
   ]
  },
  {
   "cell_type": "markdown",
   "metadata": {},
   "source": [
    "# BBSR Model"
   ]
  },
  {
   "cell_type": "code",
   "execution_count": 5,
   "metadata": {},
   "outputs": [],
   "source": [
    "def BBSR(Put_Call, n, S_0, X, rfr, vol, t): \n",
    "    opt_price = 2*BBS(Put_Call, n, S_0, X, rfr, vol, t) \\\n",
    "        - BBS(Put_Call, int(n/2), S_0, X, rfr, vol, t)\n",
    "    \n",
    "    return opt_price"
   ]
  },
  {
   "cell_type": "markdown",
   "metadata": {},
   "source": [
    "# Example"
   ]
  },
  {
   "cell_type": "code",
   "execution_count": 6,
   "metadata": {},
   "outputs": [
    {
     "name": "stdout",
     "output_type": "stream",
     "text": [
      "3.345395944289011 3.345942622469239\n"
     ]
    }
   ],
   "source": [
    "S_0 = 100\n",
    "rfr = 0.05\n",
    "vol = 0.3\n",
    "X = 90\n",
    "t = 0.5\n",
    "\n",
    "\n",
    "v_BBSR = BBSR(\"P\", 1000, S_0, X, rfr, vol, t)\n",
    "\n",
    "v_BBS = BBS(\"P\", 1000, S_0, X, rfr, vol, t)\n",
    "\n",
    "print(v_BBSR, v_BBS)"
   ]
  },
  {
   "cell_type": "code",
   "execution_count": null,
   "metadata": {},
   "outputs": [],
   "source": []
  }
 ],
 "metadata": {
  "kernelspec": {
   "display_name": "Python 3",
   "language": "python",
   "name": "python3"
  },
  "language_info": {
   "codemirror_mode": {
    "name": "ipython",
    "version": 3
   },
   "file_extension": ".py",
   "mimetype": "text/x-python",
   "name": "python",
   "nbconvert_exporter": "python",
   "pygments_lexer": "ipython3",
   "version": "3.8.3"
  }
 },
 "nbformat": 4,
 "nbformat_minor": 4
}
